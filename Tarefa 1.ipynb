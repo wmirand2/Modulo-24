{
 "cells": [
  {
   "cell_type": "markdown",
   "id": "8239ab9d-234a-4629-967b-51715a419c17",
   "metadata": {},
   "source": [
    "### 1- Cite 5 diferenças entre o RandomForest e o AdaBoost:"
   ]
  },
  {
   "cell_type": "markdown",
   "id": "4d51ee62-f4e4-4090-9e9d-e13c8bcf063c",
   "metadata": {},
   "source": [
    "- tamanho da árvore: em RF não existe produndidade máxima pré-determianda para cada árvore (full-sized tree), enquanto no AdaBoost cada árvore tem 1 ramo e 2 folhas (stump);\n",
    "\n",
    "- precisão de classificação: como em RF o modelo utiliza todas as variáveis, possui classificações mais precisas. Já o Adaboost utiliza apenas uma variável e, portanto, não tem uma boa acurácia, por isso são chamados de aprendizes fracos (weak learners);\n",
    "\n",
    "- peso: em RF o resultado de cada árvore tem o mesmo peso. Em Adaboost é atribuído um peso diferente a cada árvore;\n",
    "\n",
    "- ordem de construção das árvores: em RF cada árvore é independente porém, em Adaboost os erros de cada árvore influenciam a próxima;\n",
    "\n",
    "- método: RF é baseado em bagging enquanto Adaboost é baseado em boosting;"
   ]
  },
  {
   "cell_type": "markdown",
   "id": "eebb5a0f-2c03-4c4f-8b7f-5c7a2b98d681",
   "metadata": {},
   "source": [
    "### 2- Acesse o link Scikit-learn–adaboost, leia a explicação (traduza se for preciso) e crie um jupyternotebook contendo o exemplo do AdaBoost:"
   ]
  },
  {
   "cell_type": "code",
   "execution_count": 1,
   "id": "f70a1aa8-9c63-4413-9b18-f900c3270f99",
   "metadata": {},
   "outputs": [
    {
     "data": {
      "text/plain": [
       "0.9466666666666665"
      ]
     },
     "execution_count": 1,
     "metadata": {},
     "output_type": "execute_result"
    }
   ],
   "source": [
    "from sklearn.model_selection import cross_val_score\n",
    "from sklearn.datasets import load_iris\n",
    "from sklearn.ensemble import AdaBoostClassifier\n",
    "\n",
    "X, y = load_iris(return_X_y=True)\n",
    "clf = AdaBoostClassifier(n_estimators=100)\n",
    "scores = cross_val_score(clf, X, y, cv=5)\n",
    "scores.mean()"
   ]
  },
  {
   "cell_type": "markdown",
   "id": "46beae60-56bd-4fe0-bccb-95d9c1d3a1ce",
   "metadata": {},
   "source": [
    "### 3- Cite 5 Hyperparametros importantes no AdaBoost:"
   ]
  },
  {
   "cell_type": "markdown",
   "id": "9ccb11aa-8b96-49f0-8763-926fc27b15d9",
   "metadata": {},
   "source": [
    "- n_estimators;\n",
    "\n",
    "- learning_rate;\n",
    "\n",
    "- estimator;\n",
    "\n",
    "- algorithm;\n",
    "\n",
    "- base_estimator;"
   ]
  },
  {
   "cell_type": "markdown",
   "id": "00c3a93a-d199-4c3e-bd5d-1098f6aa52ba",
   "metadata": {},
   "source": [
    "4- (Opcional) Utilize o GridSearch para encontrar os melhores hyperparametros para o conjunto de dados do exemplo (load_iris):"
   ]
  },
  {
   "cell_type": "code",
   "execution_count": 2,
   "id": "7866cbe6-8d08-4d7d-ac6f-d4e8194a8b9a",
   "metadata": {},
   "outputs": [],
   "source": [
    "from sklearn.model_selection import train_test_split\n",
    "from sklearn.ensemble import GradientBoostingClassifier\n",
    "from sklearn.model_selection import GridSearchCV\n",
    "\n",
    "X, y = load_iris(return_X_y=True)\n",
    "X_train, X_test, y_train, y_test = train_test_split(X, y,\n",
    "                                                    test_size=0.3, \n",
    "                                                    random_state=12)"
   ]
  },
  {
   "cell_type": "code",
   "execution_count": 3,
   "id": "5334bd3f-d028-447d-abf4-f128320edc07",
   "metadata": {},
   "outputs": [],
   "source": [
    "gb = GradientBoostingClassifier()\n",
    "\n",
    "parametros = {\n",
    "    'n_estimators': [10, 50, 100, 150, 200],\n",
    "    'learning_rate': [0.0001, 0.001, 0.01, 0.1, 1.0]}\n",
    "\n",
    "grid = GridSearchCV(estimator=gb,\n",
    "                    param_grid=parametros,\n",
    "                    scoring='accuracy',\n",
    "                    verbose=False,\n",
    "                    n_jobs = -1,\n",
    "                    cv=2)\n",
    "\n",
    "grid.fit(X_train, y_train.ravel());"
   ]
  },
  {
   "cell_type": "code",
   "execution_count": 4,
   "id": "73abd73c-ae5e-452b-badf-1c99bfdf2fee",
   "metadata": {},
   "outputs": [
    {
     "data": {
      "text/plain": [
       "{'learning_rate': 0.001, 'n_estimators': 100}"
      ]
     },
     "execution_count": 4,
     "metadata": {},
     "output_type": "execute_result"
    }
   ],
   "source": [
    "grid.best_params_"
   ]
  },
  {
   "cell_type": "code",
   "execution_count": null,
   "id": "b44ee077-aa14-4f19-b416-6fa9cfdb20a1",
   "metadata": {},
   "outputs": [],
   "source": []
  }
 ],
 "metadata": {
  "kernelspec": {
   "display_name": "Python 3 (ipykernel)",
   "language": "python",
   "name": "python3"
  },
  "language_info": {
   "codemirror_mode": {
    "name": "ipython",
    "version": 3
   },
   "file_extension": ".py",
   "mimetype": "text/x-python",
   "name": "python",
   "nbconvert_exporter": "python",
   "pygments_lexer": "ipython3",
   "version": "3.11.5"
  }
 },
 "nbformat": 4,
 "nbformat_minor": 5
}
