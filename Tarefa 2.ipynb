{
 "cells": [
  {
   "cell_type": "markdown",
   "id": "19172584-fed1-4613-a6d4-5ae585ff42b9",
   "metadata": {},
   "source": [
    "### 1. Cite 5 diferenças entre o AdaBoost e o GBM."
   ]
  },
  {
   "cell_type": "markdown",
   "id": "16e1c973-6723-4cb4-a51c-538a0268de13",
   "metadata": {},
   "source": [
    "1-Tamanho da árvore: no Adaboost cada árvore tem 1 ramo e 2 folhas (stump), em GBM não existe produndidade máxima pré-determianda para cada árvore (full-sized tree);\n",
    "\n",
    "2- Funçao de perda (loss function): em GBM qualquer função de perda diferenciável pode ser utilizada. Em Adaboost a função de perda é minimizada para tornar o algoritmo menos sensível aos outliers.\n",
    "\n",
    "3- No Adaboost o primeiro passo é uma árvore de decisão; em GBM o primeiro passo é a média da variável target (Y);\n",
    "\n",
    "4- Classificador (peso): em Adaboost é atribuído um peso diferente a cada árvore; em GBM cada árvore tem o mesmo peso e possui um multiplicador em comum (eta);\n",
    "\n",
    "5- Benefícios: Adaboost foi projetado para problemas de classificação binária e, portanto, aumentar o desempenho de árvores de decisão; GBM é aplicado tanto em problemas de classificação quanto de regressão;"
   ]
  },
  {
   "cell_type": "markdown",
   "id": "4d78a5fc-81b8-4a90-9895-21d599db5ca4",
   "metadata": {},
   "source": [
    "### 2. Acesse o link Scikit-learn – GBM, leia a explicação (traduza se for preciso) e crie um jupyter notebook contendo o exemplo de classificação e de regressão do GBM."
   ]
  },
  {
   "cell_type": "code",
   "execution_count": 1,
   "id": "fe252e86-1f9c-4c15-b746-917b279d1cd0",
   "metadata": {},
   "outputs": [
    {
     "data": {
      "text/plain": [
       "0.913"
      ]
     },
     "execution_count": 1,
     "metadata": {},
     "output_type": "execute_result"
    }
   ],
   "source": [
    "from sklearn.datasets import make_hastie_10_2\n",
    "from sklearn.ensemble import GradientBoostingClassifier\n",
    "\n",
    "X, y = make_hastie_10_2(random_state=0)\n",
    "X_train, X_test = X[:2000], X[2000:]\n",
    "y_train, y_test = y[:2000], y[2000:]\n",
    "\n",
    "clf = GradientBoostingClassifier(n_estimators=100, learning_rate=1.0,\n",
    "                                 max_depth=1, random_state=0).fit(X_train, y_train)\n",
    "clf.score(X_test, y_test)"
   ]
  },
  {
   "cell_type": "markdown",
   "id": "484e3271-a022-4b3f-8360-ed435b03ff87",
   "metadata": {},
   "source": [
    "### 3. Cite 5 Hyperparametros importantes no GBM."
   ]
  },
  {
   "cell_type": "markdown",
   "id": "cb96f760-3e25-4fd5-8984-a70bcd900eaa",
   "metadata": {},
   "source": [
    "min_samples_split;\n",
    "\n",
    "min_samples_leaf;\n",
    "\n",
    "max_depth;\n",
    "\n",
    "max_leaf_nodes;\n",
    "\n",
    "max_features;"
   ]
  },
  {
   "cell_type": "markdown",
   "id": "2e349dbb-7f5b-4815-b0af-282dcc3ae845",
   "metadata": {},
   "source": [
    "### 4. (Opcional) Utilize o GridSearch para encontrar os melhores hyperparametros para o conjunto de dados do exemplo"
   ]
  },
  {
   "cell_type": "code",
   "execution_count": 2,
   "id": "7518ccdb-1a8e-495a-96fe-af468681cd2c",
   "metadata": {},
   "outputs": [
    {
     "data": {
      "text/plain": [
       "0.913"
      ]
     },
     "execution_count": 2,
     "metadata": {},
     "output_type": "execute_result"
    }
   ],
   "source": [
    "from sklearn.model_selection import train_test_split\n",
    "from sklearn.ensemble import GradientBoostingClassifier\n",
    "from sklearn.model_selection import GridSearchCV\n",
    "\n",
    "X, y = make_hastie_10_2(random_state=0)\n",
    "X_train, X_test = X[:2000], X[2000:]\n",
    "y_train, y_test = y[:2000], y[2000:]\n",
    "\n",
    "clf = GradientBoostingClassifier(n_estimators=100, learning_rate=1.0,\n",
    "                                 max_depth=1, random_state=0).fit(X_train, y_train)\n",
    "clf.score(X_test, y_test)"
   ]
  },
  {
   "cell_type": "code",
   "execution_count": 3,
   "id": "78120c88-716e-46a5-88f6-766581a5d51c",
   "metadata": {},
   "outputs": [],
   "source": [
    "gb = GradientBoostingClassifier()\n",
    "\n",
    "parametros = {\n",
    "    'n_estimators': [10, 50, 100, 150, 200],\n",
    "    'learning_rate': [0.0001, 0.001, 0.01, 0.1, 1.0, 1.1, 1.5]}\n",
    "\n",
    "grid = GridSearchCV(estimator=gb,\n",
    "                    param_grid=parametros,\n",
    "                    scoring='accuracy',\n",
    "                    verbose=False,\n",
    "                    n_jobs = -1,\n",
    "                    cv=2)\n",
    "\n",
    "grid.fit(X_train, y_train.ravel());"
   ]
  },
  {
   "cell_type": "code",
   "execution_count": 4,
   "id": "259a5f98-b240-4833-aaa6-10dcb5158910",
   "metadata": {},
   "outputs": [
    {
     "data": {
      "text/plain": [
       "{'learning_rate': 1.5, 'n_estimators': 200}"
      ]
     },
     "execution_count": 4,
     "metadata": {},
     "output_type": "execute_result"
    }
   ],
   "source": [
    "grid.best_params_"
   ]
  },
  {
   "cell_type": "markdown",
   "id": "836ad2c3-bb8a-4127-878d-0d2eefe39927",
   "metadata": {},
   "source": [
    "### 5. Acessando o artigo do Jerome Friedman (Stochastic) e pensando no nome dado ao Stochastic GBM, qual é a maior diferença entre os dois algoritmos?"
   ]
  },
  {
   "cell_type": "markdown",
   "id": "58024f02-7bf0-43e5-a2c5-3e60f2ef6bc6",
   "metadata": {},
   "source": [
    "\"Logo após a introdução do aumento de gradiente, Friedman propôs uma pequena modificação no algoritmo, motivada pelo método de agregação bootstrap (\"bagging\") de Breiman . [6] Especificamente, ele propôs que a cada iteração do algoritmo, um aprendiz base deveria ser ajustado em uma subamostra do conjunto de treinamento sorteado aleatoriamente sem reposição. [12] Friedman observou uma melhoria substancial na precisão do aumento de gradiente com esta modificação.\""
   ]
  },
  {
   "cell_type": "code",
   "execution_count": null,
   "id": "97690230-22d2-464a-b554-01cd49f4e650",
   "metadata": {},
   "outputs": [],
   "source": []
  }
 ],
 "metadata": {
  "kernelspec": {
   "display_name": "Python 3 (ipykernel)",
   "language": "python",
   "name": "python3"
  },
  "language_info": {
   "codemirror_mode": {
    "name": "ipython",
    "version": 3
   },
   "file_extension": ".py",
   "mimetype": "text/x-python",
   "name": "python",
   "nbconvert_exporter": "python",
   "pygments_lexer": "ipython3",
   "version": "3.11.5"
  }
 },
 "nbformat": 4,
 "nbformat_minor": 5
}
